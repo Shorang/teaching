{
 "cells": [
  {
   "cell_type": "markdown",
   "metadata": {},
   "source": [
    "# Módulo 1: Introdução às Libs + Line Plot"
   ]
  },
  {
   "cell_type": "markdown",
   "metadata": {},
   "source": [
    "___"
   ]
  },
  {
   "cell_type": "markdown",
   "metadata": {},
   "source": [
    "# Tutorial"
   ]
  },
  {
   "cell_type": "markdown",
   "metadata": {},
   "source": [
    "## Imports Auxiliares para a Aula"
   ]
  },
  {
   "cell_type": "code",
   "execution_count": null,
   "metadata": {
    "collapsed": true
   },
   "outputs": [],
   "source": [
    "import numpy as np\n",
    "import os\n",
    "import pandas as pd"
   ]
  },
  {
   "cell_type": "markdown",
   "metadata": {},
   "source": [
    "## Matplotlib"
   ]
  },
  {
   "cell_type": "markdown",
   "metadata": {},
   "source": [
    "### Importando Matplotlib"
   ]
  },
  {
   "cell_type": "code",
   "execution_count": null,
   "metadata": {
    "collapsed": true
   },
   "outputs": [],
   "source": [
    "\"\"\" Essa linha permite plotar em um notebook \"\"\"\n",
    "%matplotlib inline"
   ]
  },
  {
   "cell_type": "code",
   "execution_count": null,
   "metadata": {
    "collapsed": true
   },
   "outputs": [],
   "source": [
    "import matplotlib.pyplot as plt"
   ]
  },
  {
   "cell_type": "code",
   "execution_count": null,
   "metadata": {},
   "outputs": [],
   "source": [
    "\"\"\" Configurando o Matplotlib para o modo manual \"\"\"\n",
    "plt.interactive(False)"
   ]
  },
  {
   "cell_type": "markdown",
   "metadata": {},
   "source": [
    "### Primeiro Plot"
   ]
  },
  {
   "cell_type": "code",
   "execution_count": null,
   "metadata": {
    "collapsed": true
   },
   "outputs": [],
   "source": [
    "\"\"\" definindo as variáveis \"\"\"\n",
    "x = np.linspace(-2 * np.pi, 2 * np.pi, 100)\n",
    "y = np.sin(x)"
   ]
  },
  {
   "cell_type": "code",
   "execution_count": null,
   "metadata": {},
   "outputs": [],
   "source": [
    "\"\"\" construindo a figura \"\"\"\n",
    "plt.plot(x, y)"
   ]
  },
  {
   "cell_type": "code",
   "execution_count": null,
   "metadata": {},
   "outputs": [],
   "source": [
    "\"\"\" mostrando a figura \"\"\"\n",
    "plt.show()"
   ]
  },
  {
   "cell_type": "markdown",
   "metadata": {},
   "source": [
    "### Melhorando a Visualização"
   ]
  },
  {
   "cell_type": "markdown",
   "metadata": {},
   "source": [
    "####  Aumentando a janela de visualização"
   ]
  },
  {
   "cell_type": "code",
   "execution_count": null,
   "metadata": {},
   "outputs": [],
   "source": [
    "\"\"\" criando na mão o objeto Figure de 12 por 8 polegadas \"\"\"\n",
    "plt.figure(figsize=(12, 8))"
   ]
  },
  {
   "cell_type": "code",
   "execution_count": null,
   "metadata": {},
   "outputs": [],
   "source": [
    "\"\"\" Construindo a figura \"\"\"\n",
    "plt.plot(x, y)\n",
    "plt.show()"
   ]
  },
  {
   "cell_type": "markdown",
   "metadata": {},
   "source": [
    "####  Adicionando Informação à figura"
   ]
  },
  {
   "cell_type": "code",
   "execution_count": null,
   "metadata": {},
   "outputs": [],
   "source": [
    "\"\"\" construindo o plot \"\"\"\n",
    "plt.figure(figsize=(12, 8))\n",
    "plt.plot(x, y)"
   ]
  },
  {
   "cell_type": "code",
   "execution_count": null,
   "metadata": {},
   "outputs": [],
   "source": [
    "\"\"\" adicionando textos explicativos \"\"\"\n",
    "plt.xlabel(\"eixo X\")\n",
    "plt.ylabel(\"eixo Y\")\n",
    "plt.title(\"senóide\")"
   ]
  },
  {
   "cell_type": "code",
   "execution_count": null,
   "metadata": {},
   "outputs": [],
   "source": [
    "\"\"\"a última coisa a ser feita, pois esvazia o buffer de imagem \"\"\"\n",
    "plt.show()"
   ]
  },
  {
   "cell_type": "markdown",
   "metadata": {},
   "source": [
    "####  Controlando o tamanho dos eixos"
   ]
  },
  {
   "cell_type": "code",
   "execution_count": null,
   "metadata": {},
   "outputs": [],
   "source": [
    "\"\"\" construindo o plot \"\"\"\n",
    "plt.figure(figsize=(12, 8))\n",
    "\n",
    "plt.xlabel(\"eixo X\")\n",
    "plt.ylabel(\"eixo Y\")\n",
    "plt.title(\"senóide\")\n",
    "\n",
    "plt.plot(x, y)"
   ]
  },
  {
   "cell_type": "code",
   "execution_count": null,
   "metadata": {},
   "outputs": [],
   "source": [
    "\"\"\" redimensionando a janela de visualização\"\"\"\n",
    "plt.xlim(-2 * np.pi, 0.01)\n",
    "plt.ylim(-2, +2)"
   ]
  },
  {
   "cell_type": "code",
   "execution_count": null,
   "metadata": {},
   "outputs": [],
   "source": [
    "\"\"\" visualizando \"\"\"\n",
    "plt.show()"
   ]
  },
  {
   "cell_type": "markdown",
   "metadata": {},
   "source": [
    "####  Adicionando um Grid"
   ]
  },
  {
   "cell_type": "code",
   "execution_count": null,
   "metadata": {},
   "outputs": [],
   "source": [
    "\"\"\" construindo o plot \"\"\"\n",
    "plt.figure(figsize=(12, 8))\n",
    "\n",
    "plt.xlabel(\"eixo X\")\n",
    "plt.ylabel(\"eixo Y\")\n",
    "plt.title(\"senóide\")\n",
    "\n",
    "plt.xlim(-np.pi, np.pi)\n",
    "plt.ylim(-1.2, +1.2)\n",
    "\n",
    "plt.plot(x, y)"
   ]
  },
  {
   "cell_type": "code",
   "execution_count": null,
   "metadata": {},
   "outputs": [],
   "source": [
    "\"\"\" adicionando grid \"\"\"\n",
    "plt.grid(True)"
   ]
  },
  {
   "cell_type": "code",
   "execution_count": null,
   "metadata": {},
   "outputs": [],
   "source": [
    "\"\"\" visualizando \"\"\"\n",
    "plt.show()"
   ]
  },
  {
   "cell_type": "markdown",
   "metadata": {},
   "source": [
    "####  Customizando a curva"
   ]
  },
  {
   "cell_type": "code",
   "execution_count": null,
   "metadata": {},
   "outputs": [],
   "source": [
    "\"\"\" construindo o plot \"\"\"\n",
    "plt.figure(figsize=(12, 8))\n",
    "\n",
    "plt.xlabel(\"eixo X\")\n",
    "plt.ylabel(\"eixo Y\")\n",
    "plt.title(\"senóide\")\n",
    "\n",
    "plt.xlim(-np.pi, np.pi)\n",
    "plt.ylim(-1.2, +1.2)\n",
    "\n",
    "plt.grid(True)"
   ]
  },
  {
   "cell_type": "code",
   "execution_count": null,
   "metadata": {},
   "outputs": [],
   "source": [
    "\"\"\" customização  \"\"\"\n",
    "plt.plot(\n",
    "    x, y, \n",
    "    color=\"r\", \n",
    "    linewidth=3, \n",
    "    linestyle=\":\"\n",
    ")"
   ]
  },
  {
   "cell_type": "code",
   "execution_count": null,
   "metadata": {},
   "outputs": [],
   "source": [
    "\"\"\" visualizando \"\"\"\n",
    "plt.show()"
   ]
  },
  {
   "cell_type": "markdown",
   "metadata": {},
   "source": [
    "### Adicionando mais curvas na Janela"
   ]
  },
  {
   "cell_type": "markdown",
   "metadata": {},
   "source": [
    "#### Variáveis"
   ]
  },
  {
   "cell_type": "code",
   "execution_count": null,
   "metadata": {
    "collapsed": true
   },
   "outputs": [],
   "source": [
    "\"\"\" definindo as variáveis \"\"\"\n",
    "x = np.linspace(-2 * np.pi, 2 * np.pi, 100)\n",
    "y1 = np.sin(x)\n",
    "y2 = np.cos(x)\n",
    "y3 = x * 0.333334"
   ]
  },
  {
   "cell_type": "markdown",
   "metadata": {},
   "source": [
    "#### Comando único"
   ]
  },
  {
   "cell_type": "code",
   "execution_count": null,
   "metadata": {
    "collapsed": true
   },
   "outputs": [],
   "source": [
    "\"\"\" construindo o plot \"\"\"\n",
    "plt.figure(figsize=(12, 8))\n",
    "\n",
    "plt.xlabel(\"eixo X\")\n",
    "plt.ylabel(\"eixo Y\")\n",
    "plt.title(\"senóide\")\n",
    "\n",
    "plt.xlim(-np.pi, np.pi)\n",
    "plt.ylim(-1.2, +1.2)\n",
    "\n",
    "plt.grid(True)"
   ]
  },
  {
   "cell_type": "code",
   "execution_count": null,
   "metadata": {},
   "outputs": [],
   "source": [
    "\"\"\" construindo o plot \"\"\"\n",
    "plt.plot(\n",
    "    x, y1, \"r-\",\n",
    "    x, y2, \"g--\",\n",
    "    x, y3, \"b:\"\n",
    ")"
   ]
  },
  {
   "cell_type": "code",
   "execution_count": null,
   "metadata": {},
   "outputs": [],
   "source": [
    "\"\"\" inserindo a legenda; descomente outras linhas para variar a posição da legenda \"\"\"\n",
    "local = \"best\"\n",
    "# local = \"upper right\"\n",
    "# local = \"upper left\"\n",
    "# local = \"lower left\"\n",
    "# local = \"lower right\"\n",
    "# local = \"right\"\n",
    "# local = \"center left\"\n",
    "# local = \"center right\"\n",
    "# local = \"lower center\"\n",
    "# local = \"upper center\"\n",
    "# local = \"center\"\n",
    "\n",
    "plt.legend([\"seno\", \"cosseno\", \"reta\"], loc=local)"
   ]
  },
  {
   "cell_type": "code",
   "execution_count": null,
   "metadata": {},
   "outputs": [],
   "source": [
    "plt.show()"
   ]
  },
  {
   "cell_type": "markdown",
   "metadata": {},
   "source": [
    "#### Método Aditivo"
   ]
  },
  {
   "cell_type": "code",
   "execution_count": null,
   "metadata": {
    "collapsed": true
   },
   "outputs": [],
   "source": [
    "\"\"\" construindo o plot \"\"\"\n",
    "plt.figure(figsize=(12, 8))\n",
    "\n",
    "plt.xlabel(\"eixo X\")\n",
    "plt.ylabel(\"eixo Y\")\n",
    "plt.title(\"senóide\")\n",
    "\n",
    "plt.xlim(-np.pi, np.pi)\n",
    "plt.ylim(-1.2, +1.2)\n",
    "\n",
    "plt.grid(True)"
   ]
  },
  {
   "cell_type": "code",
   "execution_count": null,
   "metadata": {},
   "outputs": [],
   "source": [
    "\"\"\" construindo o plot \"\"\"\n",
    "plt.plot(x, y1, color=\"red\", linewidth=2, linestyle=\"-\")\n",
    "plt.plot(x, y2, color=\"green\", linewidth=4, linestyle=\"--\")\n",
    "plt.plot(x, y3, color=\"blue\", linewidth=6, linestyle=\":\")"
   ]
  },
  {
   "cell_type": "code",
   "execution_count": null,
   "metadata": {},
   "outputs": [],
   "source": [
    "\"\"\" inserindo a legenda; descomente outras linhas para variar a posição da legenda \"\"\"\n",
    "# por padrão, loc = \"best\"\n",
    "plt.legend([\"seno\", \"cosseno\", \"reta\"])"
   ]
  },
  {
   "cell_type": "code",
   "execution_count": null,
   "metadata": {},
   "outputs": [],
   "source": [
    "plt.show()"
   ]
  },
  {
   "cell_type": "markdown",
   "metadata": {},
   "source": [
    "### Salvando em arquivos"
   ]
  },
  {
   "cell_type": "markdown",
   "metadata": {},
   "source": [
    "#### Variáveis"
   ]
  },
  {
   "cell_type": "code",
   "execution_count": null,
   "metadata": {
    "collapsed": true
   },
   "outputs": [],
   "source": [
    "\"\"\" definindo as variáveis \"\"\"\n",
    "x = np.linspace(-2 * np.pi, 2 * np.pi, 100)\n",
    "y1 = np.sin(x)\n",
    "y2 = np.cos(x)\n",
    "y3 = x * 0.333334\n",
    "y4 = np.tan(x)\n",
    "y5 = np.cosh(x)"
   ]
  },
  {
   "cell_type": "markdown",
   "metadata": {},
   "source": [
    "#### Salvando em PDF e PNG"
   ]
  },
  {
   "cell_type": "code",
   "execution_count": null,
   "metadata": {},
   "outputs": [],
   "source": [
    "\"\"\" construindo o plot \"\"\"\n",
    "plt.figure(figsize=(12, 8))\n",
    "\n",
    "plt.xlabel(\"eixo X\")\n",
    "plt.ylabel(\"eixo Y\")\n",
    "plt.title(\"senóide\")\n",
    "\n",
    "plt.xlim(-np.pi, np.pi)\n",
    "plt.ylim(-2, +5)\n",
    "\n",
    "plt.grid(True)\n",
    "\n",
    "plt.plot(x, y1, color=\"red\", linewidth=1, linestyle=\"-\")\n",
    "plt.plot(x, y2, color=\"green\", linewidth=2, linestyle=\"--\")\n",
    "plt.plot(x, y3, color=\"blue\", linewidth=3, linestyle=\":\")\n",
    "plt.plot(x, y4, color=\"darkorange\", linewidth=4, linestyle=\"--\")\n",
    "plt.plot(x, y5, color=\"k\", linewidth=5, linestyle=\"-\")\n",
    "\n",
    "\n",
    "plt.legend([\"seno\", \"cosseno\", \"reta\", \"tangente\", \"cosseno hiperbólico\"])"
   ]
  },
  {
   "cell_type": "code",
   "execution_count": null,
   "metadata": {},
   "outputs": [],
   "source": [
    "\"\"\" salvando PDF \"\"\"\n",
    "plt.savefig(\"senoide.pdf\")"
   ]
  },
  {
   "cell_type": "code",
   "execution_count": null,
   "metadata": {
    "collapsed": true
   },
   "outputs": [],
   "source": [
    "\"\"\" salvando PNG \"\"\"\n",
    "plt.savefig(\"senoide.png\")"
   ]
  },
  {
   "cell_type": "code",
   "execution_count": null,
   "metadata": {},
   "outputs": [],
   "source": [
    "\"\"\" mostrando apenas após salvar \"\"\"\n",
    "plt.show()"
   ]
  },
  {
   "cell_type": "markdown",
   "metadata": {},
   "source": [
    "## Seaborn"
   ]
  },
  {
   "cell_type": "markdown",
   "metadata": {},
   "source": [
    "### Importando o Seaborn"
   ]
  },
  {
   "cell_type": "code",
   "execution_count": null,
   "metadata": {
    "collapsed": true
   },
   "outputs": [],
   "source": [
    "import seaborn as sns"
   ]
  },
  {
   "cell_type": "markdown",
   "metadata": {},
   "source": [
    "### Variáveis"
   ]
  },
  {
   "cell_type": "code",
   "execution_count": null,
   "metadata": {
    "collapsed": true
   },
   "outputs": [],
   "source": [
    "\"\"\" definindo as variáveis \"\"\"\n",
    "x = np.linspace(-2 * np.pi, 2 * np.pi, 100)\n",
    "y1 = np.sin(x)\n",
    "y2 = np.cos(x)\n",
    "y3 = x * 0.333334"
   ]
  },
  {
   "cell_type": "markdown",
   "metadata": {},
   "source": [
    "### Rodando o mesmo experimento com o Seaborn importado"
   ]
  },
  {
   "cell_type": "code",
   "execution_count": null,
   "metadata": {},
   "outputs": [],
   "source": [
    "\"\"\" encapsulando o plot \"\"\"\n",
    "def plot_curves():\n",
    "    plt.figure(figsize=(12, 8))\n",
    "    plt.plot(x, y1, color=\"red\")\n",
    "    plt.plot(x, y2, color=\"green\")\n",
    "    plt.plot(x, y3, color=\"blue\")\n",
    "    plt.legend([\"seno\", \"cosseno\", \"reta\"])\n",
    "    plt.show()"
   ]
  },
  {
   "cell_type": "code",
   "execution_count": null,
   "metadata": {},
   "outputs": [],
   "source": [
    "\"\"\" plot sem SNS \"\"\"\n",
    "plot_curves()"
   ]
  },
  {
   "cell_type": "code",
   "execution_count": null,
   "metadata": {},
   "outputs": [],
   "source": [
    "\"\"\" plot com SNS \"\"\"\n",
    "sns.set()\n",
    "plot_curves()"
   ]
  },
  {
   "cell_type": "markdown",
   "metadata": {},
   "source": [
    "___"
   ]
  },
  {
   "cell_type": "markdown",
   "metadata": {},
   "source": [
    "# Desafio"
   ]
  },
  {
   "cell_type": "markdown",
   "metadata": {},
   "source": [
    "## Objetivo:\n",
    "\n",
    "Construir o plot da **curva ROC** usando as **ferramentas** dadas em cada item.\n",
    "\n",
    "Referência para a curva ROC: <a href=\"https://en.wikipedia.org/wiki/Receiver_operating_characteristic\" target=_blank> https://en.wikipedia.org/wiki/Receiver_operating_characteristic </a>\n",
    "\n",
    "O resultado esperado pode ser visto na figura abaixo."
   ]
  },
  {
   "attachments": {
    "image.png": {
     "image/png": "[encoded data removed]"
    }
   },
   "cell_type": "markdown",
   "metadata": {},
   "source": [
    "![image.png](attachment:image.png)"
   ]
  },
  {
   "cell_type": "markdown",
   "metadata": {},
   "source": [
    "### Variáveis"
   ]
  },
  {
   "cell_type": "code",
   "execution_count": null,
   "metadata": {},
   "outputs": [],
   "source": [
    "x = np.array([ 0.        ,  0.        ,  0.01960784,  0.01960784,  0.07843137,\n",
    "               0.07843137,  0.09803922,  0.09803922,  0.11764706,  0.11764706,\n",
    "               0.1372549 ,  0.1372549 ,  0.15686275,  0.15686275,  0.17647059,\n",
    "               0.17647059,  0.31372549,  0.31372549,  0.33333333,  0.33333333,\n",
    "               0.35294118,  0.35294118,  0.41176471,  0.41176471,  0.45098039,\n",
    "               0.45098039,  0.47058824,  0.47058824,  0.50980392,  0.50980392,\n",
    "               0.56862745,  0.56862745,  1.        ])"
   ]
  },
  {
   "cell_type": "code",
   "execution_count": null,
   "metadata": {},
   "outputs": [],
   "source": [
    "y = np.array([ 0.04166667,  0.125     ,  0.125     ,  0.25      ,  0.25      ,\n",
    "               0.29166667,  0.29166667,  0.33333333,  0.33333333,  0.41666667,\n",
    "               0.41666667,  0.5       ,  0.5       ,  0.54166667,  0.54166667,\n",
    "               0.58333333,  0.58333333,  0.66666667,  0.66666667,  0.75      ,\n",
    "               0.75      ,  0.79166667,  0.79166667,  0.83333333,  0.83333333,\n",
    "               0.875     ,  0.875     ,  0.91666667,  0.91666667,  0.95833333,\n",
    "               0.95833333,  1.        ,  1.        ])"
   ]
  },
  {
   "cell_type": "code",
   "execution_count": null,
   "metadata": {},
   "outputs": [],
   "source": [
    "roc_auc = 0.78594771241830075"
   ]
  },
  {
   "cell_type": "markdown",
   "metadata": {},
   "source": [
    "### [ A ] Usando apenas a lib *Matplotlib*"
   ]
  },
  {
   "cell_type": "code",
   "execution_count": null,
   "metadata": {},
   "outputs": [],
   "source": [
    "\"\"\" Escreva a a Solução Aqui \"\"\""
   ]
  },
  {
   "cell_type": "markdown",
   "metadata": {},
   "source": [
    "### [ B ] Usando a lib *Seaborn*"
   ]
  },
  {
   "cell_type": "code",
   "execution_count": null,
   "metadata": {},
   "outputs": [],
   "source": [
    "\"\"\" Escreva a a Solução Aqui \"\"\""
   ]
  }
 ],
 "metadata": {
  "kernelspec": {
   "display_name": "Python 3",
   "language": "python",
   "name": "python3"
  },
  "language_info": {
   "codemirror_mode": {
    "name": "ipython",
    "version": 3
   },
   "file_extension": ".py",
   "mimetype": "text/x-python",
   "name": "python",
   "nbconvert_exporter": "python",
   "pygments_lexer": "ipython3",
   "version": "3.6.2"
  }
 },
 "nbformat": 4,
 "nbformat_minor": 2
}
